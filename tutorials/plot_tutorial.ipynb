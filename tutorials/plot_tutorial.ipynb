{
 "cells": [
  {
   "cell_type": "markdown",
   "id": "0873e27b",
   "metadata": {},
   "source": [
    "# Plot Light Curves"
   ]
  },
  {
   "cell_type": "code",
   "execution_count": null,
   "id": "22aa3686",
   "metadata": {},
   "outputs": [],
   "source": [
    "from astropy.io import fits\n",
    "from get_fits import download_fits\n",
    "from pathlib import Path\n",
    "from roman_api import get_collections, get_indices"
   ]
  },
  {
   "cell_type": "markdown",
   "id": "b88a9414",
   "metadata": {},
   "source": [
    "Need to provide a concrete definition of `collections`. The cell below returns a list of the collections that are available for the campaign that the web server is currently pointing at."
   ]
  },
  {
   "cell_type": "code",
   "execution_count": null,
   "id": "5ae30929",
   "metadata": {},
   "outputs": [],
   "source": [
    "get_collections()"
   ]
  },
  {
   "cell_type": "markdown",
   "id": "86c0dbf3",
   "metadata": {},
   "source": [
    "Need to provide a concrete definition of what an `index` is in this context. The name of simulations follow the format: \"`{collection} a{ai}_t{ti}_z{zi}`\" where `ai`, `ti`, and `zi`are indices into the arrays defined in `/tiers`."
   ]
  },
  {
   "cell_type": "code",
   "execution_count": null,
   "id": "052b9434",
   "metadata": {},
   "outputs": [],
   "source": [
    "collection = '1TIER_PRISM10' # replace with any of the collections specified in the previous cell\n",
    "get_indices(collection)"
   ]
  },
  {
   "cell_type": "markdown",
   "id": "bf4bc0df",
   "metadata": {},
   "source": [
    "The following cell demonstrates how to download simulated FITS files into the directory `fits_dump`. Executing the cell will create subdirectories within `fits_dump` that depend on the specified collection and index."
   ]
  },
  {
   "cell_type": "code",
   "execution_count": null,
   "id": "432cadd2",
   "metadata": {
    "scrolled": false
   },
   "outputs": [],
   "source": [
    "# define parameters\n",
    "collection = \"1TIER_PRISM25\" # select target collection\n",
    "index = \"a00-t00-z00\" # select target index\n",
    "fits_type = [\"PHOT\", \"HEAD\", \"SPEC\"] # can select PHOT, HEAD, and/or SPEC\n",
    "model = [\"NONIa\", \"Ia\"] # can select NONIa and/or Ia\n",
    "\n",
    "# download the entire dataset of a particular collection & index\n",
    "for item in fits_type:\n",
    "    for model_type in model:\n",
    "        download_fits(collection, index, item, model_type)"
   ]
  },
  {
   "cell_type": "markdown",
   "id": "80e3a8d5",
   "metadata": {},
   "source": [
    "Review an individual FITS file"
   ]
  },
  {
   "cell_type": "code",
   "execution_count": null,
   "id": "12d96dbe",
   "metadata": {},
   "outputs": [],
   "source": [
    "fits_dump_dir = \"fits_dump\"\n",
    "fits_dir = Path.cwd() / f\"{fits_dump_dir}/{collection}/{index}\"\n",
    "\n",
    "# review content of individual FITS file\n",
    "fits_filename = fits.open(f\"{fits_dir}/ROMAN_NONIaMODEL1-0001_PHOT.FITS\")\n",
    "fits_filename.info()"
   ]
  },
  {
   "cell_type": "code",
   "execution_count": null,
   "id": "3c6eb8fd",
   "metadata": {},
   "outputs": [],
   "source": []
  }
 ],
 "metadata": {
  "kernelspec": {
   "display_name": "Python 3 (ipykernel)",
   "language": "python",
   "name": "python3"
  },
  "language_info": {
   "codemirror_mode": {
    "name": "ipython",
    "version": 3
   },
   "file_extension": ".py",
   "mimetype": "text/x-python",
   "name": "python",
   "nbconvert_exporter": "python",
   "pygments_lexer": "ipython3",
   "version": "3.11.5"
  }
 },
 "nbformat": 4,
 "nbformat_minor": 5
}
